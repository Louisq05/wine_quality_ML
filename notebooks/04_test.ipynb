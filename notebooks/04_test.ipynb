{
 "cells": [
  {
   "cell_type": "markdown",
   "id": "c5abaa91",
   "metadata": {},
   "source": [
    "# Test du modèle sur un vin fictif"
   ]
  },
  {
   "cell_type": "code",
   "execution_count": 1,
   "id": "6c5ce02c",
   "metadata": {},
   "outputs": [],
   "source": [
    "# Chargement de bibliothèques\n",
    "import pandas as pd\n",
    "import joblib"
   ]
  },
  {
   "cell_type": "code",
   "execution_count": 2,
   "id": "86793854",
   "metadata": {},
   "outputs": [],
   "source": [
    "# Charger le modèle et le scaler\n",
    "model = joblib.load(\"../models/random_forest_regressor.joblib\")\n",
    "scaler = joblib.load(\"../models/scaler.joblib\")\n"
   ]
  },
  {
   "cell_type": "code",
   "execution_count": 3,
   "id": "ab0344ff",
   "metadata": {},
   "outputs": [
    {
     "data": {
      "application/vnd.microsoft.datawrangler.viewer.v0+json": {
       "columns": [
        {
         "name": "index",
         "rawType": "int64",
         "type": "integer"
        },
        {
         "name": "fixed acidity",
         "rawType": "int64",
         "type": "integer"
        },
        {
         "name": "volatile acidity",
         "rawType": "int64",
         "type": "integer"
        },
        {
         "name": "citric acid",
         "rawType": "float64",
         "type": "float"
        },
        {
         "name": "residual sugar",
         "rawType": "float64",
         "type": "float"
        },
        {
         "name": "chlorides",
         "rawType": "float64",
         "type": "float"
        },
        {
         "name": "free sulfur dioxide",
         "rawType": "int64",
         "type": "integer"
        },
        {
         "name": "total sulfur dioxide",
         "rawType": "float64",
         "type": "float"
        },
        {
         "name": "density",
         "rawType": "float64",
         "type": "float"
        },
        {
         "name": "pH",
         "rawType": "float64",
         "type": "float"
        },
        {
         "name": "sulphates",
         "rawType": "int64",
         "type": "integer"
        },
        {
         "name": "alcohol",
         "rawType": "int64",
         "type": "integer"
        }
       ],
       "ref": "6939cd97-b2f0-4de1-a028-c08745231457",
       "rows": [
        [
         "0",
         "6",
         "1",
         "0.2",
         "2.1",
         "0.09",
         "10",
         "30.0",
         "0.9888",
         "3.51",
         "1",
         "12"
        ]
       ],
       "shape": {
        "columns": 11,
        "rows": 1
       }
      },
      "text/html": [
       "<div>\n",
       "<style scoped>\n",
       "    .dataframe tbody tr th:only-of-type {\n",
       "        vertical-align: middle;\n",
       "    }\n",
       "\n",
       "    .dataframe tbody tr th {\n",
       "        vertical-align: top;\n",
       "    }\n",
       "\n",
       "    .dataframe thead th {\n",
       "        text-align: right;\n",
       "    }\n",
       "</style>\n",
       "<table border=\"1\" class=\"dataframe\">\n",
       "  <thead>\n",
       "    <tr style=\"text-align: right;\">\n",
       "      <th></th>\n",
       "      <th>fixed acidity</th>\n",
       "      <th>volatile acidity</th>\n",
       "      <th>citric acid</th>\n",
       "      <th>residual sugar</th>\n",
       "      <th>chlorides</th>\n",
       "      <th>free sulfur dioxide</th>\n",
       "      <th>total sulfur dioxide</th>\n",
       "      <th>density</th>\n",
       "      <th>pH</th>\n",
       "      <th>sulphates</th>\n",
       "      <th>alcohol</th>\n",
       "    </tr>\n",
       "  </thead>\n",
       "  <tbody>\n",
       "    <tr>\n",
       "      <th>0</th>\n",
       "      <td>6</td>\n",
       "      <td>1</td>\n",
       "      <td>0.2</td>\n",
       "      <td>2.1</td>\n",
       "      <td>0.09</td>\n",
       "      <td>10</td>\n",
       "      <td>30.0</td>\n",
       "      <td>0.9888</td>\n",
       "      <td>3.51</td>\n",
       "      <td>1</td>\n",
       "      <td>12</td>\n",
       "    </tr>\n",
       "  </tbody>\n",
       "</table>\n",
       "</div>"
      ],
      "text/plain": [
       "   fixed acidity  volatile acidity  citric acid  residual sugar  chlorides  \\\n",
       "0              6                 1          0.2             2.1       0.09   \n",
       "\n",
       "   free sulfur dioxide  total sulfur dioxide  density    pH  sulphates  \\\n",
       "0                   10                  30.0   0.9888  3.51          1   \n",
       "\n",
       "   alcohol  \n",
       "0       12  "
      ]
     },
     "execution_count": 3,
     "metadata": {},
     "output_type": "execute_result"
    }
   ],
   "source": [
    "# Création d'une ligne de dataframe\n",
    "\n",
    "# Exemple d'un vin fictif\n",
    "sample = pd.DataFrame([{\n",
    "    \"fixed acidity\": 6,\n",
    "    \"volatile acidity\": 1,\n",
    "    \"citric acid\": 0.2,\n",
    "    \"residual sugar\": 2.1,\n",
    "    \"chlorides\": 0.09,\n",
    "    \"free sulfur dioxide\": 10,\n",
    "    \"total sulfur dioxide\": 30.0,\n",
    "    \"density\": 0.9888,\n",
    "    \"pH\": 3.51,\n",
    "    \"sulphates\": 1,\n",
    "    \"alcohol\": 12\n",
    "}])\n",
    "\n",
    "sample"
   ]
  },
  {
   "cell_type": "code",
   "execution_count": 4,
   "id": "b66bdf84",
   "metadata": {},
   "outputs": [],
   "source": [
    "# Application du même prétraitement\n",
    "sample_scaled = scaler.transform(sample)"
   ]
  },
  {
   "cell_type": "code",
   "execution_count": null,
   "id": "a9a68bad",
   "metadata": {},
   "outputs": [],
   "source": [
    "# Prédiction de la note\n",
    "predicted_quality = model.predict(sample_scaled)\n",
    "print(f\"Note prédite : {predicted_quality[0]:.2f}\")"
   ]
  }
 ],
 "metadata": {
  "kernelspec": {
   "display_name": "Python 3",
   "language": "python",
   "name": "python3"
  },
  "language_info": {
   "codemirror_mode": {
    "name": "ipython",
    "version": 3
   },
   "file_extension": ".py",
   "mimetype": "text/x-python",
   "name": "python",
   "nbconvert_exporter": "python",
   "pygments_lexer": "ipython3",
   "version": "3.13.7"
  }
 },
 "nbformat": 4,
 "nbformat_minor": 5
}
