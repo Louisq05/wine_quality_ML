{
 "cells": [
  {
   "cell_type": "markdown",
   "id": "412ebda1",
   "metadata": {},
   "source": [
    "# Modélisation"
   ]
  },
  {
   "cell_type": "markdown",
   "id": "c27f4054",
   "metadata": {},
   "source": [
    "## Choix du modèle \n",
    "\n",
    "- Modèle de régression : détermination de la note du vin (0 -> 10)\n",
    "- Modèle de classification : classer les bons vins des mauvais\n",
    "\n",
    "> _Objectif_ : Orienter le projet vers une fonction précise, et adapter le modèle à cet objectif\n",
    "\n",
    "- _Remarque_ : Pour cette exercice, nous réaliserons un régression."
   ]
  },
  {
   "cell_type": "code",
   "execution_count": 5,
   "id": "5d7a26de",
   "metadata": {},
   "outputs": [],
   "source": [
    "# Chargement des bibliothèques et des données\n",
    "import pandas as pd\n",
    "import numpy as np\n",
    "import matplotlib.pyplot as plt\n",
    "import seaborn as sns\n",
    "\n",
    "from sklearn.linear_model import LinearRegression\n",
    "from sklearn.ensemble import RandomForestRegressor\n",
    "from sklearn.metrics import mean_absolute_error, mean_squared_error, r2_score\n",
    "\n",
    "import joblib\n",
    "\n",
    "X_train, X_test, y_train, y_test = joblib.load(\"../data/processed/splits.pkl\")"
   ]
  }
 ],
 "metadata": {
  "kernelspec": {
   "display_name": "venv",
   "language": "python",
   "name": "python3"
  },
  "language_info": {
   "codemirror_mode": {
    "name": "ipython",
    "version": 3
   },
   "file_extension": ".py",
   "mimetype": "text/x-python",
   "name": "python",
   "nbconvert_exporter": "python",
   "pygments_lexer": "ipython3",
   "version": "3.13.7"
  }
 },
 "nbformat": 4,
 "nbformat_minor": 5
}
