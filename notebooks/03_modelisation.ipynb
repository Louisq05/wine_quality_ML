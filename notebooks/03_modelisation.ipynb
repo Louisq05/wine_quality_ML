{
 "cells": [
  {
   "cell_type": "markdown",
   "id": "412ebda1",
   "metadata": {},
   "source": [
    "# Modélisation"
   ]
  },
  {
   "cell_type": "markdown",
   "id": "c27f4054",
   "metadata": {},
   "source": [
    "## Choix du modèle \n",
    "\n",
    "- Modèle de régression : détermination de la note du vin (0 -> 10)\n",
    "- Modèle de classification : classer les bons vins des mauvais\n",
    "\n",
    "> _Objectif_ : Orienter le projet vers une fonction précise, et adapter le modèle à cet objectif\n",
    "\n",
    "- _Remarque_ : Pour cette exercice, nous réaliserons un régression."
   ]
  },
  {
   "cell_type": "code",
   "execution_count": 7,
   "id": "5d7a26de",
   "metadata": {},
   "outputs": [],
   "source": [
    "# Chargement des bibliothèques\n",
    "import pandas as pd\n",
    "import numpy as np\n",
    "import matplotlib.pyplot as plt\n",
    "import seaborn as sns\n",
    "\n",
    "from sklearn.linear_model import LinearRegression\n",
    "from sklearn.ensemble import RandomForestRegressor\n",
    "from sklearn.metrics import mean_absolute_error, mean_squared_error, r2_score\n",
    "\n",
    "from sklearn.model_selection import RandomizedSearchCV\n",
    "from scipy.stats import randint\n",
    "\n",
    "import joblib\n",
    "import os\n",
    "\n",
    "# Chargement du dataset prétraité\n",
    "X_train, X_test, y_train, y_test = joblib.load(\"../data/processed/splits.pkl\")"
   ]
  },
  {
   "cell_type": "markdown",
   "id": "73e4d155",
   "metadata": {},
   "source": [
    "## Entrainement \n",
    "\n",
    "- Regression linéaire \n",
    "- Regression par forêt aléatoire\n",
    "- Entrainement et comparaison des résultats\n",
    "\n",
    "> _Objectif_ : Déterminer le modèle le plus adapté à cet exercice de régression."
   ]
  },
  {
   "cell_type": "code",
   "execution_count": 8,
   "id": "f64bd333",
   "metadata": {},
   "outputs": [
    {
     "name": "stdout",
     "output_type": "stream",
     "text": [
      "=== Linear Regression Performance ===\n",
      "MAE  : 0.495\n",
      "RMSE : 0.637\n",
      "R²   : 0.370\n"
     ]
    }
   ],
   "source": [
    "# Entraînement du modèle baseline : Régression Linéaire\n",
    "\n",
    "# Instanciation\n",
    "lin_reg = LinearRegression()\n",
    "\n",
    "# Entraînement sur les données d'apprentissage\n",
    "lin_reg.fit(X_train, y_train)\n",
    "\n",
    "# Prédiction sur le jeu de test\n",
    "y_pred_lr = lin_reg.predict(X_test)\n",
    "\n",
    "# Évaluation du modèle\n",
    "mae = mean_absolute_error(y_test, y_pred_lr)\n",
    "rmse = np.sqrt(mean_squared_error(y_test, y_pred_lr))\n",
    "r2 = r2_score(y_test, y_pred_lr)\n",
    "\n",
    "# Résumé des performances\n",
    "print(\"=== Linear Regression Performance ===\")\n",
    "print(f\"MAE  : {mae:.3f}\")\n",
    "print(f\"RMSE : {rmse:.3f}\")\n",
    "print(f\"R²   : {r2:.3f}\")\n"
   ]
  },
  {
   "cell_type": "code",
   "execution_count": 9,
   "id": "6b445182",
   "metadata": {},
   "outputs": [
    {
     "name": "stdout",
     "output_type": "stream",
     "text": [
      "=== Random Forest Regressor Performance ===\n",
      "MAE  : 0.420\n",
      "RMSE : 0.569\n",
      "R²   : 0.498\n"
     ]
    }
   ],
   "source": [
    "# Entraînement du modèle baseline : Forêt aléatoire\n",
    "\n",
    "# Instanciation\n",
    "rf_reg = RandomForestRegressor(\n",
    "    n_estimators=100,   # nombre d’arbres\n",
    "    random_state=42,    # pour reproductibilité\n",
    "    n_jobs=-1           # utilise tous les cœurs CPU\n",
    ")\n",
    "\n",
    "# Entraînement sur les données d'apprentissage\n",
    "rf_reg.fit(X_train, y_train)\n",
    "\n",
    "# Prédiction sur le jeu de test\n",
    "y_pred_rf = rf_reg.predict(X_test)\n",
    "\n",
    "# Évaluation du modèle\n",
    "mae = mean_absolute_error(y_test, y_pred_rf)\n",
    "rmse = np.sqrt(mean_squared_error(y_test, y_pred_rf))\n",
    "r2 = r2_score(y_test, y_pred_rf)\n",
    "\n",
    "# Résumé des performances\n",
    "print(\"=== Random Forest Regressor Performance ===\")\n",
    "print(f\"MAE  : {mae:.3f}\")\n",
    "print(f\"RMSE : {rmse:.3f}\")\n",
    "print(f\"R²   : {r2:.3f}\")"
   ]
  },
  {
   "cell_type": "markdown",
   "id": "277c3bd5",
   "metadata": {},
   "source": [
    "## Comparaison des performances\n",
    "\n",
    "| Modèle                      | MAE ↓     | RMSE ↓    | R² ↑      | Interprétation                                                                                     |\n",
    "| --------------------------- | --------- | --------- | --------- | -------------------------------------------------------------------------------------------------- |\n",
    "| **Linear Regression**       | 0.613     | 0.790     | 0.370     | Modèle simple, capture une partie des relations linéaires mais laisse une grande part d’erreur.    |\n",
    "| **Random Forest Regressor** | **0.519** | **0.706** | **0.496** | Meilleures performances : capture des relations **non linéaires** et interactions entre variables. |\n",
    "\n",
    "- _Remarque_ : Là où le modèle basé sur une régression linéaire explique environ 37 % de la variance, le modèle basé sur la forêt aléatoire en explique 50 %. Cela explique que la relation entre caractéristiques et cible n'est pas strictement linéaire."
   ]
  },
  {
   "cell_type": "markdown",
   "id": "96bd35a4",
   "metadata": {},
   "source": [
    "## Optimisation des hyperparamètres\n",
    "\n",
    "- Forêt aléatoire basée sur les hyperparmètres de base\n",
    "- Possibilité d'en améliorer les performances\n",
    "\n",
    "> _Objectif_ : Peaufiner le modèle grâce aux hyperparamètres."
   ]
  },
  {
   "cell_type": "code",
   "execution_count": 10,
   "id": "0bab4b6c",
   "metadata": {},
   "outputs": [
    {
     "name": "stdout",
     "output_type": "stream",
     "text": [
      "Fitting 5 folds for each of 30 candidates, totalling 150 fits\n",
      "=== Meilleurs paramètres trouvés ===\n",
      "{'max_depth': 17, 'max_features': 'log2', 'min_samples_leaf': 1, 'min_samples_split': 5, 'n_estimators': 99}\n",
      "Meilleur score CV : 0.460\n",
      "\n",
      "=== Random Forest Optimisée ===\n",
      "MAE  : 0.424\n",
      "RMSE : 0.573\n",
      "R²   : 0.492\n"
     ]
    },
    {
     "name": "stderr",
     "output_type": "stream",
     "text": [
      "c:\\Users\\louis\\AppData\\Local\\Programs\\Python\\Python313\\Lib\\site-packages\\sklearn\\model_selection\\_validation.py:516: FitFailedWarning: \n",
      "55 fits failed out of a total of 150.\n",
      "The score on these train-test partitions for these parameters will be set to nan.\n",
      "If these failures are not expected, you can try to debug them by setting error_score='raise'.\n",
      "\n",
      "Below are more details about the failures:\n",
      "--------------------------------------------------------------------------------\n",
      "26 fits failed with the following error:\n",
      "Traceback (most recent call last):\n",
      "  File \"c:\\Users\\louis\\AppData\\Local\\Programs\\Python\\Python313\\Lib\\site-packages\\sklearn\\model_selection\\_validation.py\", line 859, in _fit_and_score\n",
      "    estimator.fit(X_train, y_train, **fit_params)\n",
      "    ~~~~~~~~~~~~~^^^^^^^^^^^^^^^^^^^^^^^^^^^^^^^^\n",
      "  File \"c:\\Users\\louis\\AppData\\Local\\Programs\\Python\\Python313\\Lib\\site-packages\\sklearn\\base.py\", line 1358, in wrapper\n",
      "    estimator._validate_params()\n",
      "    ~~~~~~~~~~~~~~~~~~~~~~~~~~^^\n",
      "  File \"c:\\Users\\louis\\AppData\\Local\\Programs\\Python\\Python313\\Lib\\site-packages\\sklearn\\base.py\", line 471, in _validate_params\n",
      "    validate_parameter_constraints(\n",
      "    ~~~~~~~~~~~~~~~~~~~~~~~~~~~~~~^\n",
      "        self._parameter_constraints,\n",
      "        ^^^^^^^^^^^^^^^^^^^^^^^^^^^^\n",
      "        self.get_params(deep=False),\n",
      "        ^^^^^^^^^^^^^^^^^^^^^^^^^^^^\n",
      "        caller_name=self.__class__.__name__,\n",
      "        ^^^^^^^^^^^^^^^^^^^^^^^^^^^^^^^^^^^^\n",
      "    )\n",
      "    ^\n",
      "  File \"c:\\Users\\louis\\AppData\\Local\\Programs\\Python\\Python313\\Lib\\site-packages\\sklearn\\utils\\_param_validation.py\", line 98, in validate_parameter_constraints\n",
      "    raise InvalidParameterError(\n",
      "    ...<2 lines>...\n",
      "    )\n",
      "sklearn.utils._param_validation.InvalidParameterError: The 'max_features' parameter of RandomForestRegressor must be an int in the range [1, inf), a float in the range (0.0, 1.0], a str among {'sqrt', 'log2'} or None. Got 'auto' instead.\n",
      "\n",
      "--------------------------------------------------------------------------------\n",
      "29 fits failed with the following error:\n",
      "Traceback (most recent call last):\n",
      "  File \"c:\\Users\\louis\\AppData\\Local\\Programs\\Python\\Python313\\Lib\\site-packages\\sklearn\\model_selection\\_validation.py\", line 859, in _fit_and_score\n",
      "    estimator.fit(X_train, y_train, **fit_params)\n",
      "    ~~~~~~~~~~~~~^^^^^^^^^^^^^^^^^^^^^^^^^^^^^^^^\n",
      "  File \"c:\\Users\\louis\\AppData\\Local\\Programs\\Python\\Python313\\Lib\\site-packages\\sklearn\\base.py\", line 1358, in wrapper\n",
      "    estimator._validate_params()\n",
      "    ~~~~~~~~~~~~~~~~~~~~~~~~~~^^\n",
      "  File \"c:\\Users\\louis\\AppData\\Local\\Programs\\Python\\Python313\\Lib\\site-packages\\sklearn\\base.py\", line 471, in _validate_params\n",
      "    validate_parameter_constraints(\n",
      "    ~~~~~~~~~~~~~~~~~~~~~~~~~~~~~~^\n",
      "        self._parameter_constraints,\n",
      "        ^^^^^^^^^^^^^^^^^^^^^^^^^^^^\n",
      "        self.get_params(deep=False),\n",
      "        ^^^^^^^^^^^^^^^^^^^^^^^^^^^^\n",
      "        caller_name=self.__class__.__name__,\n",
      "        ^^^^^^^^^^^^^^^^^^^^^^^^^^^^^^^^^^^^\n",
      "    )\n",
      "    ^\n",
      "  File \"c:\\Users\\louis\\AppData\\Local\\Programs\\Python\\Python313\\Lib\\site-packages\\sklearn\\utils\\_param_validation.py\", line 98, in validate_parameter_constraints\n",
      "    raise InvalidParameterError(\n",
      "    ...<2 lines>...\n",
      "    )\n",
      "sklearn.utils._param_validation.InvalidParameterError: The 'max_features' parameter of RandomForestRegressor must be an int in the range [1, inf), a float in the range (0.0, 1.0], a str among {'log2', 'sqrt'} or None. Got 'auto' instead.\n",
      "\n",
      "  warnings.warn(some_fits_failed_message, FitFailedWarning)\n",
      "c:\\Users\\louis\\AppData\\Local\\Programs\\Python\\Python313\\Lib\\site-packages\\sklearn\\model_selection\\_search.py:1135: UserWarning: One or more of the test scores are non-finite: [       nan 0.42846949        nan 0.38470002 0.4277693  0.32781734\n",
      " 0.44551338        nan 0.44944884 0.41220767 0.36403971 0.46009802\n",
      " 0.4242702  0.39870648 0.36261808 0.41931908        nan        nan\n",
      "        nan 0.44647057        nan 0.41532638        nan 0.40592333\n",
      "        nan 0.45764997 0.41354526        nan        nan 0.39993353]\n",
      "  warnings.warn(\n"
     ]
    }
   ],
   "source": [
    "# grille d'hyperparamètres\n",
    "param_distrib = {\n",
    "    'n_estimators': randint(50, 300),         # nombre d'arbres\n",
    "    'max_depth': randint(3, 20),              # profondeur max des arbres\n",
    "    'min_samples_split': randint(2, 10),      # min d'échantillons pour diviser un noeud\n",
    "    'min_samples_leaf': randint(1, 10),       # min d'échantillons dans une feuille\n",
    "    'max_features': ['auto', 'sqrt', 'log2']  # sous-échantillonnage des features\n",
    "}\n",
    "# Modèle de base\n",
    "rf = RandomForestRegressor(random_state=42)\n",
    "# Configuration de la recherche aléatoire\n",
    "random_search = RandomizedSearchCV(\n",
    "    estimator=rf,\n",
    "    param_distributions=param_distrib,\n",
    "    n_iter=30,              # nombre d'itérations testées\n",
    "    cv=5,                   # validation croisée 5-fold\n",
    "    scoring='r2',           # on maximise le R²\n",
    "    verbose=2,\n",
    "    random_state=42,\n",
    "    n_jobs=-1               # utilise tous les cœurs CPU\n",
    ")\n",
    "# Entraînement\n",
    "random_search.fit(X_train, y_train)\n",
    "\n",
    "# Résultats\n",
    "print(\"=== Meilleurs paramètres trouvés ===\")\n",
    "print(random_search.best_params_)\n",
    "print(f\"Meilleur score CV : {random_search.best_score_:.3f}\")\n",
    "\n",
    "# Meilleur modèle\n",
    "best_rf = random_search.best_estimator_\n",
    "\n",
    "# Évaluation sur test set\n",
    "y_pred_best = best_rf.predict(X_test)\n",
    "mae = mean_absolute_error(y_test, y_pred_best)\n",
    "rmse = np.sqrt(mean_squared_error(y_test, y_pred_best))\n",
    "r2 = r2_score(y_test, y_pred_best)\n",
    "\n",
    "print(\"\\n=== Random Forest Optimisée ===\")\n",
    "print(f\"MAE  : {mae:.3f}\")\n",
    "print(f\"RMSE : {rmse:.3f}\")\n",
    "print(f\"R²   : {r2:.3f}\")"
   ]
  },
  {
   "cell_type": "markdown",
   "id": "6c7be069",
   "metadata": {},
   "source": [
    "## Comparaison des performances\n",
    "\n",
    "| Modèle                    | MAE ↓ | RMSE ↓ | R² ↑  |\n",
    "| ------------------------- | ----- | ------ | ----- |\n",
    "| Random Forest (défaut)    | 0.519 | 0.706  | 0.496 |\n",
    "| Random Forest (optimisée) | 0.526 | 0.707  | 0.494 |\n",
    "\n",
    "\n",
    "- _Remarque_ : Les performances ne sont pas grandement améliorées. Cela veut dire que les paramètres de base de RandomForest sont relativement adaptés et peuvent être expliqués par la simplicité du dataset, le facteur humain, etc. "
   ]
  },
  {
   "cell_type": "markdown",
   "id": "0909b324",
   "metadata": {},
   "source": [
    "## Analyse de l'importance des features\n",
    "\n",
    "- Certaines caractéristiques ont plus d'impact sur la prédiction\n",
    "- Elles peuvent être dévoilées grâce à `features_importances_`\n",
    "\n",
    "> _Objectif_ : Déterminer quelles sont les caractéristiques les plus influentes sur la prédiction. "
   ]
  },
  {
   "cell_type": "code",
   "execution_count": 11,
   "id": "ea487302",
   "metadata": {},
   "outputs": [
    {
     "data": {
      "image/png": "[encoded data removed]",
      "text/plain": [
       "<Figure size 800x600 with 1 Axes>"
      ]
     },
     "metadata": {},
     "output_type": "display_data"
    }
   ],
   "source": [
    "# Visualisation des features influentes\n",
    "importances = pd.Series(best_rf.feature_importances_, index=X_train.columns)\n",
    "importances.sort_values(ascending=True).plot(kind='barh', figsize=(8,6))\n",
    "plt.title(\"Importance des variables - RandomForest optimisée\")\n",
    "plt.show()"
   ]
  },
  {
   "cell_type": "markdown",
   "id": "dbbfaa47",
   "metadata": {},
   "source": [
    "## Enregistrement du modèle\n",
    "\n",
    "- Réutilisations futures du modèle ou de la structure du projet\n",
    "- Rendu propore et livrable\n",
    "\n",
    "> _Objectif_ : Garder une trace du projet, le rendre réutilisable si besoin. "
   ]
  },
  {
   "cell_type": "code",
   "execution_count": 12,
   "id": "03c64530",
   "metadata": {},
   "outputs": [
    {
     "name": "stdout",
     "output_type": "stream",
     "text": [
      "✅ Modèle sauvegardé avec succès : ../models/random_forest_regressor.joblib\n"
     ]
    }
   ],
   "source": [
    "# Sauvegarde du modèle optimisé\n",
    "model_path = \"../models/random_forest_regressor.joblib\"\n",
    "joblib.dump(best_rf, model_path)\n",
    "\n",
    "print(f\"✅ Modèle sauvegardé avec succès : {model_path}\")"
   ]
  }
 ],
 "metadata": {
  "kernelspec": {
   "display_name": "Python 3",
   "language": "python",
   "name": "python3"
  },
  "language_info": {
   "codemirror_mode": {
    "name": "ipython",
    "version": 3
   },
   "file_extension": ".py",
   "mimetype": "text/x-python",
   "name": "python",
   "nbconvert_exporter": "python",
   "pygments_lexer": "ipython3",
   "version": "3.13.7"
  }
 },
 "nbformat": 4,
 "nbformat_minor": 5
}
