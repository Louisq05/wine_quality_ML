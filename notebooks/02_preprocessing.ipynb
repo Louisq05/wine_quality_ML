{
 "cells": [
  {
   "cell_type": "markdown",
   "id": "99ca60e2",
   "metadata": {},
   "source": [
    "# Préparation des données"
   ]
  },
  {
   "cell_type": "code",
   "execution_count": 44,
   "id": "c080249b",
   "metadata": {},
   "outputs": [],
   "source": [
    "# Chargment des bibliothèques\n",
    "import pandas as pd\n",
    "from sklearn.preprocessing import StandardScaler\n",
    "import matplotlib.pyplot as plt\n",
    "import seaborn as sns\n",
    "from sklearn.model_selection import train_test_split\n",
    "import joblib\n",
    "\n",
    "\n",
    "# Chargement du dataset\n",
    "df = pd.read_csv(\"../data/raw/winequality-red.csv\", sep=';')"
   ]
  },
  {
   "cell_type": "markdown",
   "id": "7fe1cb1b",
   "metadata": {},
   "source": [
    "## Gestion des valeurs manquantes\n",
    "- Suppression de lignes ou colonnes trop incomplètes.\n",
    "- Imputation (remplacement par la moyenne, la médiane, le mode…).\n",
    "- Utilisation de modèles d’imputation plus avancés (KNNImputer, IterativeImputer).\n",
    "\n",
    "> _Objectif_ : ne pas perturber l’apprentissage \n"
   ]
  },
  {
   "cell_type": "code",
   "execution_count": 45,
   "id": "4d97e09d",
   "metadata": {},
   "outputs": [
    {
     "data": {
      "application/vnd.microsoft.datawrangler.viewer.v0+json": {
       "columns": [
        {
         "name": "index",
         "rawType": "object",
         "type": "string"
        },
        {
         "name": "0",
         "rawType": "int64",
         "type": "integer"
        }
       ],
       "ref": "593da18b-5fd5-41f9-928e-43f95e5a4501",
       "rows": [
        [
         "fixed acidity",
         "0"
        ],
        [
         "volatile acidity",
         "0"
        ],
        [
         "citric acid",
         "0"
        ],
        [
         "residual sugar",
         "0"
        ],
        [
         "chlorides",
         "0"
        ],
        [
         "free sulfur dioxide",
         "0"
        ],
        [
         "total sulfur dioxide",
         "0"
        ],
        [
         "density",
         "0"
        ],
        [
         "pH",
         "0"
        ],
        [
         "sulphates",
         "0"
        ],
        [
         "alcohol",
         "0"
        ],
        [
         "quality",
         "0"
        ]
       ],
       "shape": {
        "columns": 1,
        "rows": 12
       }
      },
      "text/plain": [
       "fixed acidity           0\n",
       "volatile acidity        0\n",
       "citric acid             0\n",
       "residual sugar          0\n",
       "chlorides               0\n",
       "free sulfur dioxide     0\n",
       "total sulfur dioxide    0\n",
       "density                 0\n",
       "pH                      0\n",
       "sulphates               0\n",
       "alcohol                 0\n",
       "quality                 0\n",
       "dtype: int64"
      ]
     },
     "execution_count": 45,
     "metadata": {},
     "output_type": "execute_result"
    }
   ],
   "source": [
    "# Gestion des valeurs manquantes\n",
    "df.isnull().sum()"
   ]
  },
  {
   "cell_type": "markdown",
   "id": "aa746e3e",
   "metadata": {},
   "source": [
    "- _Remarque_ : Ici, il n'y à aucune valeu manquante alors cette étape n'est pas nécéssaire."
   ]
  },
  {
   "cell_type": "markdown",
   "id": "d2e4b2ef",
   "metadata": {},
   "source": [
    "## Séparation des données\n",
    "\n",
    "- Données d'entrainement\n",
    "- Données de test"
   ]
  },
  {
   "cell_type": "code",
   "execution_count": 46,
   "id": "a75270f0",
   "metadata": {},
   "outputs": [
    {
     "name": "stdout",
     "output_type": "stream",
     "text": [
      "Taille du jeu d'entraînement : (1279, 11)\n",
      "Taille du jeu de test : (320, 11)\n"
     ]
    }
   ],
   "source": [
    "# Séparation des features et de la cible\n",
    "X = df.drop(\"quality\", axis=1)\n",
    "y = df[\"quality\"]\n",
    "\n",
    "# Séparation en train / test\n",
    "X_train, X_test, y_train, y_test = train_test_split(\n",
    "    X, y, \n",
    "    test_size=0.2,          # 20% pour le test\n",
    "    random_state=42,        # pour la reproductibilité\n",
    "    stratify=y              # utile si classes déséquilibrées\n",
    ")\n",
    "\n",
    "print(\"Taille du jeu d'entraînement :\", X_train.shape)\n",
    "print(\"Taille du jeu de test :\", X_test.shape)\n"
   ]
  },
  {
   "cell_type": "code",
   "execution_count": null,
   "id": "b1ea53c8",
   "metadata": {},
   "outputs": [],
   "source": []
  },
  {
   "cell_type": "markdown",
   "id": "3754f806",
   "metadata": {},
   "source": [
    "## Mise à l'échelle\n",
    "\n",
    "- StandardScaler : moyenne = 0, écart-type = 1.\n",
    "- MinMaxScaler : valeurs entre 0 et 1.\n",
    "\n",
    "> _Objectif_ : adapter les données aux modèles sensibles aux différences d'échelle (ex. KNN, SVM, régression linéaire)."
   ]
  },
  {
   "cell_type": "code",
   "execution_count": 47,
   "id": "6778fa64",
   "metadata": {},
   "outputs": [],
   "source": [
    "# Initialisation du scaler\n",
    "scaler = StandardScaler()\n",
    "\n",
    "# Fit uniquement sur le train, transform sur les deux\n",
    "X_train_scaled = scaler.fit_transform(X_train)\n",
    "X_test_scaled = scaler.transform(X_test)"
   ]
  },
  {
   "cell_type": "markdown",
   "id": "496e0345",
   "metadata": {},
   "source": [
    "## Sélection des variables\n",
    "\n",
    "- Corrélations fortes\n",
    "- Importances des features avec des modèles simples\n",
    "- Techniques avancées telles que la PCA\n",
    "\n",
    "> _Objectif_ : Identifier les variables les plus pertinentes, réduire les features pour accélérer l'entrainement du modèle."
   ]
  },
  {
   "cell_type": "markdown",
   "id": "003a9135",
   "metadata": {},
   "source": [
    "- _Remarque_ : Le jeu de données étant de taille modérée (11 features), il n'est pas nécéssaire de réaliser une data selection. \n",
    "\n",
    "Celà dit, voici un tableau récapitulatif des méthodes de séléction : \n",
    "\n",
    "| Méthode                             | Principe                                            | Exemple pratique                                                     |\n",
    "| ----------------------------------- | --------------------------------------------------- | -------------------------------------------------------------------- |\n",
    "| **Filtrage statistique**            | Retire les variables peu corrélées à la cible       | `SelectKBest`, test de corrélation                                   |\n",
    "| **Wrapper (sélectif)**              | Teste différentes combinaisons via cross-validation | `RFE` (Recursive Feature Elimination)                                |\n",
    "| **Basé sur l’importance du modèle** | Utilise les scores de feature importance            | `RandomForest.feature_importances_`, `PermutationImportance`, `SHAP` |\n"
   ]
  },
  {
   "cell_type": "markdown",
   "id": "26fc6d8a",
   "metadata": {},
   "source": [
    "## Sauvergarde du scaler et du split\n",
    "\n",
    "- Pour de futures utilisations\n",
    "- Faciliter le documentation "
   ]
  },
  {
   "cell_type": "code",
   "execution_count": 48,
   "id": "fd4da85d",
   "metadata": {},
   "outputs": [
    {
     "data": {
      "text/plain": [
       "['../data/processed/splits.pkl']"
      ]
     },
     "execution_count": 48,
     "metadata": {},
     "output_type": "execute_result"
    }
   ],
   "source": [
    "# Sauvegarde des splits pour fixer la seed du randomstate\n",
    "joblib.dump((X_train, X_test, y_train, y_test), \"../data/processed/splits.pkl\")"
   ]
  },
  {
   "cell_type": "code",
   "execution_count": 49,
   "id": "5f364cdf",
   "metadata": {},
   "outputs": [
    {
     "data": {
      "text/plain": [
       "['../models/scaler.joblib']"
      ]
     },
     "execution_count": 49,
     "metadata": {},
     "output_type": "execute_result"
    }
   ],
   "source": [
    "# Sauvegarde du scaler\n",
    "joblib.dump(scaler, \"../models/scaler.joblib\")"
   ]
  }
 ],
 "metadata": {
  "kernelspec": {
   "display_name": "Python 3",
   "language": "python",
   "name": "python3"
  },
  "language_info": {
   "codemirror_mode": {
    "name": "ipython",
    "version": 3
   },
   "file_extension": ".py",
   "mimetype": "text/x-python",
   "name": "python",
   "nbconvert_exporter": "python",
   "pygments_lexer": "ipython3",
   "version": "3.13.7"
  }
 },
 "nbformat": 4,
 "nbformat_minor": 5
}
