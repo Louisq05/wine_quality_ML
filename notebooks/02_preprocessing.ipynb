{
 "cells": [
  {
   "cell_type": "markdown",
   "id": "99ca60e2",
   "metadata": {},
   "source": [
    "# Préparation des données"
   ]
  },
  {
   "cell_type": "code",
   "execution_count": 15,
   "id": "c080249b",
   "metadata": {},
   "outputs": [],
   "source": [
    "# Chargment des bibliothèques\n",
    "import pandas as pd\n",
    "from sklearn.preprocessing import StandardScaler\n",
    "import matplotlib.pyplot as plt\n",
    "import seaborn as sns\n",
    "from sklearn.model_selection import train_test_split\n",
    "import joblib\n",
    "\n",
    "\n",
    "# Chargement du dataset\n",
    "df = pd.read_csv(\"../data/raw/winequality-red.csv\", sep=';')"
   ]
  },
  {
   "cell_type": "markdown",
   "id": "7fe1cb1b",
   "metadata": {},
   "source": [
    "## Gestion des valeurs manquantes\n",
    "- Suppression de lignes ou colonnes trop incomplètes.\n",
    "- Imputation (remplacement par la moyenne, la médiane, le mode…).\n",
    "- Utilisation de modèles d’imputation plus avancés (KNNImputer, IterativeImputer).\n",
    "\n",
    "> _Objectif_ : ne pas perturber l’apprentissage \n"
   ]
  },
  {
   "cell_type": "code",
   "execution_count": 16,
   "id": "4d97e09d",
   "metadata": {},
   "outputs": [
    {
     "data": {
      "application/vnd.microsoft.datawrangler.viewer.v0+json": {
       "columns": [
        {
         "name": "index",
         "rawType": "object",
         "type": "string"
        },
        {
         "name": "0",
         "rawType": "int64",
         "type": "integer"
        }
       ],
       "ref": "402e7dd5-49d5-416d-84ac-7932091cdec4",
       "rows": [
        [
         "fixed acidity",
         "0"
        ],
        [
         "volatile acidity",
         "0"
        ],
        [
         "citric acid",
         "0"
        ],
        [
         "residual sugar",
         "0"
        ],
        [
         "chlorides",
         "0"
        ],
        [
         "free sulfur dioxide",
         "0"
        ],
        [
         "total sulfur dioxide",
         "0"
        ],
        [
         "density",
         "0"
        ],
        [
         "pH",
         "0"
        ],
        [
         "sulphates",
         "0"
        ],
        [
         "alcohol",
         "0"
        ],
        [
         "quality",
         "0"
        ]
       ],
       "shape": {
        "columns": 1,
        "rows": 12
       }
      },
      "text/plain": [
       "fixed acidity           0\n",
       "volatile acidity        0\n",
       "citric acid             0\n",
       "residual sugar          0\n",
       "chlorides               0\n",
       "free sulfur dioxide     0\n",
       "total sulfur dioxide    0\n",
       "density                 0\n",
       "pH                      0\n",
       "sulphates               0\n",
       "alcohol                 0\n",
       "quality                 0\n",
       "dtype: int64"
      ]
     },
     "execution_count": 16,
     "metadata": {},
     "output_type": "execute_result"
    }
   ],
   "source": [
    "# Gestion des valeurs manquantes\n",
    "df.isnull().sum()"
   ]
  },
  {
   "cell_type": "markdown",
   "id": "aa746e3e",
   "metadata": {},
   "source": [
    "- _Remarque_ : Ici, il n'y à aucune valeu manquante alors cette étape n'est pas nécéssaire."
   ]
  },
  {
   "cell_type": "markdown",
   "id": "3754f806",
   "metadata": {},
   "source": [
    "## Mise à l'échelle\n",
    "\n",
    "- StandardScaler : moyenne = 0, écart-type = 1.\n",
    "- MinMaxScaler : valeurs entre 0 et 1.\n",
    "\n",
    "> _Objectif_ : adapter les données aux modèles sensibles aux différences d'échelle (ex. KNN, SVM, régression linéaire)."
   ]
  },
  {
   "cell_type": "code",
   "execution_count": 17,
   "id": "6778fa64",
   "metadata": {},
   "outputs": [
    {
     "data": {
      "application/vnd.microsoft.datawrangler.viewer.v0+json": {
       "columns": [
        {
         "name": "index",
         "rawType": "int64",
         "type": "integer"
        },
        {
         "name": "fixed acidity",
         "rawType": "float64",
         "type": "float"
        },
        {
         "name": "volatile acidity",
         "rawType": "float64",
         "type": "float"
        },
        {
         "name": "citric acid",
         "rawType": "float64",
         "type": "float"
        },
        {
         "name": "residual sugar",
         "rawType": "float64",
         "type": "float"
        },
        {
         "name": "chlorides",
         "rawType": "float64",
         "type": "float"
        },
        {
         "name": "free sulfur dioxide",
         "rawType": "float64",
         "type": "float"
        },
        {
         "name": "total sulfur dioxide",
         "rawType": "float64",
         "type": "float"
        },
        {
         "name": "density",
         "rawType": "float64",
         "type": "float"
        },
        {
         "name": "pH",
         "rawType": "float64",
         "type": "float"
        },
        {
         "name": "sulphates",
         "rawType": "float64",
         "type": "float"
        },
        {
         "name": "alcohol",
         "rawType": "float64",
         "type": "float"
        },
        {
         "name": "quality",
         "rawType": "float64",
         "type": "float"
        }
       ],
       "ref": "0c4de2c6-b3fd-4835-931b-0ee4ce1009d5",
       "rows": [
        [
         "0",
         "-0.5283596117263187",
         "0.9618766712454476",
         "-1.3914722776605752",
         "-0.45321840673805114",
         "-0.24370668659232994",
         "-0.46619251712773346",
         "-0.3791326888959121",
         "0.5582744625309729",
         "1.288642916709892",
         "-0.5792065221278776",
         "-0.9602461068947519",
         "-0.787822640922809"
        ],
        [
         "1",
         "-0.2985474337867381",
         "1.9674424541409123",
         "-1.3914722776605752",
         "0.0434161447934977",
         "0.22387519619714352",
         "0.8726382318679612",
         "0.6243632277859998",
         "0.028260767740937578",
         "-0.7199332966852555",
         "0.1289504006827337",
         "-0.5847771110397104",
         "-0.787822640922809"
        ],
        [
         "2",
         "-0.2985474337867381",
         "1.297065265543936",
         "-1.1860704292930377",
         "-0.16942723443430907",
         "0.09635286452728704",
         "-0.08366944598610641",
         "0.2290466545476709",
         "0.1342635066989329",
         "-0.3311766102216806",
         "-0.04808883001991929",
         "-0.5847771110397104",
         "-0.787822640922809"
        ],
        [
         "3",
         "1.6548560786997",
         "-1.3844434888439687",
         "1.4841535994849522",
         "-0.45321840673805114",
         "-0.264960408537306",
         "0.1075920895847071",
         "0.41150045758074577",
         "0.6642772014889682",
         "-0.9791044209943073",
         "-0.4611803683261096",
         "-0.5847771110397104",
         "0.4508483549823745"
        ],
        [
         "4",
         "-0.5283596117263187",
         "0.9618766712454476",
         "-1.3914722776605752",
         "-0.45321840673805114",
         "-0.24370668659232994",
         "-0.46619251712773346",
         "-0.3791326888959121",
         "0.5582744625309729",
         "1.288642916709892",
         "-0.5792065221278776",
         "-0.9602461068947519",
         "-0.787822640922809"
        ]
       ],
       "shape": {
        "columns": 12,
        "rows": 5
       }
      },
      "text/html": [
       "<div>\n",
       "<style scoped>\n",
       "    .dataframe tbody tr th:only-of-type {\n",
       "        vertical-align: middle;\n",
       "    }\n",
       "\n",
       "    .dataframe tbody tr th {\n",
       "        vertical-align: top;\n",
       "    }\n",
       "\n",
       "    .dataframe thead th {\n",
       "        text-align: right;\n",
       "    }\n",
       "</style>\n",
       "<table border=\"1\" class=\"dataframe\">\n",
       "  <thead>\n",
       "    <tr style=\"text-align: right;\">\n",
       "      <th></th>\n",
       "      <th>fixed acidity</th>\n",
       "      <th>volatile acidity</th>\n",
       "      <th>citric acid</th>\n",
       "      <th>residual sugar</th>\n",
       "      <th>chlorides</th>\n",
       "      <th>free sulfur dioxide</th>\n",
       "      <th>total sulfur dioxide</th>\n",
       "      <th>density</th>\n",
       "      <th>pH</th>\n",
       "      <th>sulphates</th>\n",
       "      <th>alcohol</th>\n",
       "      <th>quality</th>\n",
       "    </tr>\n",
       "  </thead>\n",
       "  <tbody>\n",
       "    <tr>\n",
       "      <th>0</th>\n",
       "      <td>-0.528360</td>\n",
       "      <td>0.961877</td>\n",
       "      <td>-1.391472</td>\n",
       "      <td>-0.453218</td>\n",
       "      <td>-0.243707</td>\n",
       "      <td>-0.466193</td>\n",
       "      <td>-0.379133</td>\n",
       "      <td>0.558274</td>\n",
       "      <td>1.288643</td>\n",
       "      <td>-0.579207</td>\n",
       "      <td>-0.960246</td>\n",
       "      <td>-0.787823</td>\n",
       "    </tr>\n",
       "    <tr>\n",
       "      <th>1</th>\n",
       "      <td>-0.298547</td>\n",
       "      <td>1.967442</td>\n",
       "      <td>-1.391472</td>\n",
       "      <td>0.043416</td>\n",
       "      <td>0.223875</td>\n",
       "      <td>0.872638</td>\n",
       "      <td>0.624363</td>\n",
       "      <td>0.028261</td>\n",
       "      <td>-0.719933</td>\n",
       "      <td>0.128950</td>\n",
       "      <td>-0.584777</td>\n",
       "      <td>-0.787823</td>\n",
       "    </tr>\n",
       "    <tr>\n",
       "      <th>2</th>\n",
       "      <td>-0.298547</td>\n",
       "      <td>1.297065</td>\n",
       "      <td>-1.186070</td>\n",
       "      <td>-0.169427</td>\n",
       "      <td>0.096353</td>\n",
       "      <td>-0.083669</td>\n",
       "      <td>0.229047</td>\n",
       "      <td>0.134264</td>\n",
       "      <td>-0.331177</td>\n",
       "      <td>-0.048089</td>\n",
       "      <td>-0.584777</td>\n",
       "      <td>-0.787823</td>\n",
       "    </tr>\n",
       "    <tr>\n",
       "      <th>3</th>\n",
       "      <td>1.654856</td>\n",
       "      <td>-1.384443</td>\n",
       "      <td>1.484154</td>\n",
       "      <td>-0.453218</td>\n",
       "      <td>-0.264960</td>\n",
       "      <td>0.107592</td>\n",
       "      <td>0.411500</td>\n",
       "      <td>0.664277</td>\n",
       "      <td>-0.979104</td>\n",
       "      <td>-0.461180</td>\n",
       "      <td>-0.584777</td>\n",
       "      <td>0.450848</td>\n",
       "    </tr>\n",
       "    <tr>\n",
       "      <th>4</th>\n",
       "      <td>-0.528360</td>\n",
       "      <td>0.961877</td>\n",
       "      <td>-1.391472</td>\n",
       "      <td>-0.453218</td>\n",
       "      <td>-0.243707</td>\n",
       "      <td>-0.466193</td>\n",
       "      <td>-0.379133</td>\n",
       "      <td>0.558274</td>\n",
       "      <td>1.288643</td>\n",
       "      <td>-0.579207</td>\n",
       "      <td>-0.960246</td>\n",
       "      <td>-0.787823</td>\n",
       "    </tr>\n",
       "  </tbody>\n",
       "</table>\n",
       "</div>"
      ],
      "text/plain": [
       "   fixed acidity  volatile acidity  citric acid  residual sugar  chlorides  \\\n",
       "0      -0.528360          0.961877    -1.391472       -0.453218  -0.243707   \n",
       "1      -0.298547          1.967442    -1.391472        0.043416   0.223875   \n",
       "2      -0.298547          1.297065    -1.186070       -0.169427   0.096353   \n",
       "3       1.654856         -1.384443     1.484154       -0.453218  -0.264960   \n",
       "4      -0.528360          0.961877    -1.391472       -0.453218  -0.243707   \n",
       "\n",
       "   free sulfur dioxide  total sulfur dioxide   density        pH  sulphates  \\\n",
       "0            -0.466193             -0.379133  0.558274  1.288643  -0.579207   \n",
       "1             0.872638              0.624363  0.028261 -0.719933   0.128950   \n",
       "2            -0.083669              0.229047  0.134264 -0.331177  -0.048089   \n",
       "3             0.107592              0.411500  0.664277 -0.979104  -0.461180   \n",
       "4            -0.466193             -0.379133  0.558274  1.288643  -0.579207   \n",
       "\n",
       "    alcohol   quality  \n",
       "0 -0.960246 -0.787823  \n",
       "1 -0.584777 -0.787823  \n",
       "2 -0.584777 -0.787823  \n",
       "3 -0.584777  0.450848  \n",
       "4 -0.960246 -0.787823  "
      ]
     },
     "execution_count": 17,
     "metadata": {},
     "output_type": "execute_result"
    }
   ],
   "source": [
    "# Sélection des features numériques\n",
    "num_cols = df.select_dtypes(include=['float64', 'int64']).columns\n",
    "# Initialisation du scaler\n",
    "scaler = StandardScaler()\n",
    "# Ajustement sur le dataset (uniquement sur train plus tard)\n",
    "df_scaled = df.copy()\n",
    "df_scaled[num_cols] = scaler.fit_transform(df[num_cols])\n",
    "# Vérification rapide\n",
    "df_scaled.head()"
   ]
  },
  {
   "cell_type": "code",
   "execution_count": 18,
   "id": "cb42ac34",
   "metadata": {},
   "outputs": [
    {
     "data": {
      "image/png": "[encoded data removed]",
      "text/plain": [
       "<Figure size 1000x500 with 1 Axes>"
      ]
     },
     "metadata": {},
     "output_type": "display_data"
    }
   ],
   "source": [
    "# Visualisation de l'effet de la mise à l'échelle : ici exemple sur l'alcool\n",
    "plt.figure(figsize=(10,5))\n",
    "sns.kdeplot(df['alcohol'], label='Avant scaling')\n",
    "sns.kdeplot(df_scaled['alcohol'], label='Après scaling')\n",
    "plt.legend()\n",
    "plt.title(\"Effet du scaling sur la variable alcohol\")\n",
    "plt.show()\n"
   ]
  },
  {
   "cell_type": "markdown",
   "id": "1ed6f2a0",
   "metadata": {},
   "source": [
    "# # Séparation des données\n",
    "\n",
    "- Jeu de données d'entrainement\n",
    "- Jeu de données de test\n",
    "- Jeu de validation\n",
    "\n",
    "> _Objectif_ : Diviser les données afin d'allouer des paquest à chaque étape de l'entrainement. "
   ]
  },
  {
   "cell_type": "code",
   "execution_count": 19,
   "id": "20e98884",
   "metadata": {},
   "outputs": [
    {
     "name": "stdout",
     "output_type": "stream",
     "text": [
      "Taille du jeu d'entraînement : (1279, 11)\n",
      "Taille du jeu de test : (320, 11)\n"
     ]
    }
   ],
   "source": [
    "# Définition des features et de la cible\n",
    "X = df_scaled.drop(\"quality\", axis=1)\n",
    "y = df_scaled[\"quality\"]\n",
    "\n",
    "# Séparation en train / test\n",
    "X_train, X_test, y_train, y_test = train_test_split(\n",
    "    X, y, \n",
    "    test_size=0.2,          # 20% pour le test\n",
    "    random_state=42,        # pour la reproductibilité\n",
    "    stratify=y              # utile si classes déséquilibrées\n",
    ")\n",
    "\n",
    "print(\"Taille du jeu d'entraînement :\", X_train.shape)\n",
    "print(\"Taille du jeu de test :\", X_test.shape)\n"
   ]
  },
  {
   "cell_type": "markdown",
   "id": "44f7e2d8",
   "metadata": {},
   "source": [
    "- _Remarque_ : Dans le dataset Wine Quality, certaines notes de qualité (quality) sont rares. La stratification garantit que la répartition des classes (par ex. qualité 5, 6, 7) reste la même dans train et test."
   ]
  },
  {
   "cell_type": "code",
   "execution_count": 20,
   "id": "fd4da85d",
   "metadata": {},
   "outputs": [
    {
     "data": {
      "text/plain": [
       "['../data/processed/splits.pkl']"
      ]
     },
     "execution_count": 20,
     "metadata": {},
     "output_type": "execute_result"
    }
   ],
   "source": [
    "# Sauvegarde des splits pour fixer la seed du randomstate\n",
    "joblib.dump((X_train, X_test, y_train, y_test), \"../data/processed/splits.pkl\")"
   ]
  },
  {
   "cell_type": "markdown",
   "id": "496e0345",
   "metadata": {},
   "source": [
    "## Sélection des variables\n",
    "\n",
    "- Corrélations fortes\n",
    "- Importances des features avec des modèles simples\n",
    "- Techniques avancées telles que la PCA\n",
    "\n",
    "> _Objectif_ : Identifier les variables les plus pertinentes, réduire les features pour accélérer l'entrainement du modèle."
   ]
  },
  {
   "cell_type": "markdown",
   "id": "003a9135",
   "metadata": {},
   "source": [
    "- _Remarque_ : Le jeu de données étant de taille modérée (11 features), il n'est pas nécéssaire de réaliser une data selection. \n",
    "\n",
    "Celà dit, voici un tableau récapitulatif des méthodes de séléction : \n",
    "\n",
    "| Méthode                             | Principe                                            | Exemple pratique                                                     |\n",
    "| ----------------------------------- | --------------------------------------------------- | -------------------------------------------------------------------- |\n",
    "| **Filtrage statistique**            | Retire les variables peu corrélées à la cible       | `SelectKBest`, test de corrélation                                   |\n",
    "| **Wrapper (sélectif)**              | Teste différentes combinaisons via cross-validation | `RFE` (Recursive Feature Elimination)                                |\n",
    "| **Basé sur l’importance du modèle** | Utilise les scores de feature importance            | `RandomForest.feature_importances_`, `PermutationImportance`, `SHAP` |\n"
   ]
  }
 ],
 "metadata": {
  "kernelspec": {
   "display_name": "venv",
   "language": "python",
   "name": "python3"
  },
  "language_info": {
   "codemirror_mode": {
    "name": "ipython",
    "version": 3
   },
   "file_extension": ".py",
   "mimetype": "text/x-python",
   "name": "python",
   "nbconvert_exporter": "python",
   "pygments_lexer": "ipython3",
   "version": "3.13.7"
  }
 },
 "nbformat": 4,
 "nbformat_minor": 5
}
